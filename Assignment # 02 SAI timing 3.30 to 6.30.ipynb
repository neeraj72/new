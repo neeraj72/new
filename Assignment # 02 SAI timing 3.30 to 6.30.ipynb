{
 "cells": [
  {
   "cell_type": "markdown",
   "metadata": {},
   "source": [
    "# List to do and complete Task.\n"
   ]
  },
  {
   "cell_type": "code",
   "execution_count": 5,
   "metadata": {},
   "outputs": [
    {
     "name": "stdout",
     "output_type": "stream",
     "text": [
      "Enter Your Tasks: Cooking Oil\n",
      "You have missed some tasks\n"
     ]
    }
   ],
   "source": [
    "ListToDo =['Petrol','Cooking Oil', 'Floor', 'Vagitables', 'Drinking Water']\n",
    "blank_list=[]\n",
    "selected_tasks= input('Enter Your Tasks: ')\n",
    "completed_tasks= ListToDo.index(selected_tasks)\n",
    "if completed_tasks in ListToDo:\n",
    "    \n",
    "    \n",
    "    completed_tasks=ListToDo.pop(selected_tasks)\n",
    "    blank_list.append(ListToDo)\n",
    "    \n",
    "    print(f'Your remaining task:,{ListToDo}')\n",
    "    print(f'Completed tasks:{blank_list}')\n",
    "    \n",
    "else:\n",
    "    print('You have missed some tasks')"
   ]
  },
  {
   "cell_type": "code",
   "execution_count": null,
   "metadata": {},
   "outputs": [],
   "source": []
  },
  {
   "cell_type": "code",
   "execution_count": 31,
   "metadata": {},
   "outputs": [
    {
     "name": "stdout",
     "output_type": "stream",
     "text": [
      "Which subjects you want take in Final Exams? Maths\n",
      "Your remaining Subject for next exams:,['English', 'Urdu', 'Ecnomics', 'Biology'] \n",
      "Your attempted Subjects: 2\n"
     ]
    }
   ],
   "source": [
    "subjects = ['English', 'Urdu', 'Maths', 'Ecnomics', 'Biology']\n",
    "blank_list = []\n",
    "selected_subjects= input('Which subjects you want take in Final Exams? ')\n",
    "\n",
    "if selected_subjects in subjects:\n",
    "    attempt_sub= subjects.index(selected_subjects)\n",
    "    subjects.pop(attempt_sub)\n",
    "    blank_list.append(selected_subjects)\n",
    "    \n",
    "    print(f'Your remaining Subject for next exams:,{subjects} ')\n",
    "    print(f'Your attempted Subjects: {attempt_sub}')\n",
    "else:\n",
    "    print('Please select Desire Subjects.')\n",
    "    "
   ]
  },
  {
   "cell_type": "code",
   "execution_count": 6,
   "metadata": {},
   "outputs": [
    {
     "ename": "NameError",
     "evalue": "name 'completed_tasks' is not defined",
     "output_type": "error",
     "traceback": [
      "\u001b[1;31m---------------------------------------------------------------------------\u001b[0m",
      "\u001b[1;31mNameError\u001b[0m                                 Traceback (most recent call last)",
      "\u001b[1;32m<ipython-input-6-666953a0d719>\u001b[0m in \u001b[0;36m<module>\u001b[1;34m\u001b[0m\n\u001b[1;32m----> 1\u001b[1;33m \u001b[0mprint\u001b[0m\u001b[1;33m(\u001b[0m\u001b[0mcompleted_tasks\u001b[0m\u001b[1;33m)\u001b[0m\u001b[1;33m\u001b[0m\u001b[1;33m\u001b[0m\u001b[0m\n\u001b[0m",
      "\u001b[1;31mNameError\u001b[0m: name 'completed_tasks' is not defined"
     ]
    }
   ],
   "source": [
    "print(completed_tasks)\n"
   ]
  },
  {
   "cell_type": "code",
   "execution_count": null,
   "metadata": {},
   "outputs": [],
   "source": [
    ","
   ]
  }
 ],
 "metadata": {
  "kernelspec": {
   "display_name": "Python 3",
   "language": "python",
   "name": "python3"
  },
  "language_info": {
   "codemirror_mode": {
    "name": "ipython",
    "version": 3
   },
   "file_extension": ".py",
   "mimetype": "text/x-python",
   "name": "python",
   "nbconvert_exporter": "python",
   "pygments_lexer": "ipython3",
   "version": "3.7.3"
  }
 },
 "nbformat": 4,
 "nbformat_minor": 2
}
