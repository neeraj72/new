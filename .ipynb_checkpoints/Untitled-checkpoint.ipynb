{
 "cells": [
  {
   "cell_type": "code",
   "execution_count": 5,
   "metadata": {},
   "outputs": [
    {
     "name": "stdout",
     "output_type": "stream",
     "text": [
      "do you want to select any task: Y\n",
      "Task to do: Petrol\n",
      "Your remaining task:,['Cooking Oil', 'Floor', 'Vagitables', 'Drinking Water']\n",
      "Completed tasks:['Petrol']\n"
     ]
    }
   ],
   "source": [
    "ListToDo =(['Petrol','Cooking Oil', 'Floor', 'Vagitables', 'Drinking Water'])\n",
    "blank_list=[]\n",
    "\n",
    "ques='y'\n",
    "i=0\n",
    "while ques == 'y':\n",
    "    \n",
    "    ques=input('do you want to select any task: ')\n",
    "    if (ques=='y' or ques=='Y'):\n",
    "        selected_tasks= input('Task to do: ')\n",
    "        blank_list.append(selected_tasks)\n",
    "        if selected_tasks in ListToDo:\n",
    "            i=ListToDo.index(selected_tasks)\n",
    "            ListToDo.pop(i)\n",
    "        pass\n",
    "        \n",
    "print(f'Your remaining task:,{ListToDo}')\n",
    "print(f'Completed tasks:{blank_list}')\n",
    "\n"
   ]
  },
  {
   "cell_type": "code",
   "execution_count": 5,
   "metadata": {},
   "outputs": [
    {
     "name": "stdout",
     "output_type": "stream",
     "text": [
      "Enter a number: -1\n",
      "Negative Number\n"
     ]
    }
   ],
   "source": [
    "num1= int(input('Enter a number: '))\n",
    "if num1== 0:\n",
    "    print('postive number')\n",
    "else:\n",
    "    print('Negative Number')"
   ]
  },
  {
   "cell_type": "code",
   "execution_count": 6,
   "metadata": {},
   "outputs": [
    {
     "name": "stdout",
     "output_type": "stream",
     "text": [
      "Enter a number: 3\n",
      "postive number\n"
     ]
    }
   ],
   "source": [
    "num2= int(input('Enter a number: '))\n",
    "if num2>= 0:\n",
    "    print('postive number')\n",
    "else:\n",
    "    print('Negative Number')"
   ]
  },
  {
   "cell_type": "code",
   "execution_count": 1,
   "metadata": {},
   "outputs": [
    {
     "name": "stdout",
     "output_type": "stream",
     "text": [
      "Enter a number: 0\n",
      "Zeor Entered\n"
     ]
    }
   ],
   "source": [
    "num3= int(input('Enter a number: '))\n",
    "if num3== 0:\n",
    "    print('Zeor Entered')\n",
    "else:\n",
    "    print('Negative Number')"
   ]
  },
  {
   "cell_type": "code",
   "execution_count": 2,
   "metadata": {},
   "outputs": [
    {
     "name": "stdout",
     "output_type": "stream",
     "text": [
      "Enter denominter: 4\n",
      "Enter nominater: 2\n",
      "Completely divisable\n"
     ]
    }
   ],
   "source": [
    "num1= int(input('Enter denominter: '))\n",
    "num2 = int(input('Enter nominater: '))\n",
    "if num1% num2 ==0:\n",
    "    print('Completely divisable')\n",
    "else:\n",
    "    print('Not completely divisable')"
   ]
  },
  {
   "cell_type": "code",
   "execution_count": 5,
   "metadata": {},
   "outputs": [
    {
     "name": "stdout",
     "output_type": "stream",
     "text": [
      "Enter a radius of the sphere: 1\n",
      "Volume of the sphere is 4.189333333333333 and radius of the sphere is 1\n"
     ]
    }
   ],
   "source": [
    "num1=int(input('Enter a radius of the sphere: '))\n",
    "volume=(4/3)*3.142*num1**3\n",
    "print('Volume of the sphere is', volume, 'and radius of the sphere is',num1,)"
   ]
  },
  {
   "cell_type": "code",
   "execution_count": 6,
   "metadata": {},
   "outputs": [
    {
     "name": "stdout",
     "output_type": "stream",
     "text": [
      "Enter a string: hi\n",
      "Enter how many string you need to print four times: 4\n",
      "we need 4 to print hihihihi\n"
     ]
    }
   ],
   "source": [
    "string = input('Enter a string: ')\n",
    "copies = int(input('Enter how many string you need to print four times: '))\n",
    "print('we need', copies, 'to print',string*copies,)"
   ]
  },
  {
   "cell_type": "code",
   "execution_count": 9,
   "metadata": {},
   "outputs": [
    {
     "name": "stdout",
     "output_type": "stream",
     "text": [
      "Enter a number: 2\n",
      "Even Number\n"
     ]
    }
   ],
   "source": [
    "num= int(input('Enter a number: '))\n",
    "if num %2 == 0:\n",
    "    print('Even Number')\n",
    "else:\n",
    "    print('Odd number')"
   ]
  },
  {
   "cell_type": "code",
   "execution_count": 11,
   "metadata": {},
   "outputs": [
    {
     "name": "stdout",
     "output_type": "stream",
     "text": [
      "Enter a letter: A\n",
      "Letter A is vowel\n"
     ]
    }
   ],
   "source": [
    "vowel= input('Enter a letter: ')\n",
    "if vowel.lower() == 'a' or vowel.lower() == 'e' or vowel.lower() == 'i' or vowel.lower() == 'o' or vowel.lower() == 'u':\n",
    "    print('Letter',vowel, 'is vowel')\n",
    "else:\n",
    "    print('Letter is',vowel, 'not vowel')"
   ]
  },
  {
   "cell_type": "code",
   "execution_count": 12,
   "metadata": {},
   "outputs": [
    {
     "name": "stdout",
     "output_type": "stream",
     "text": [
      "Enter a base of the cirul: 5\n",
      "Enter a height of the circul: 6\n"
     ]
    }
   ],
   "source": [
    "base= float(input('Enter a base of the cirul: '))\n",
    "height= float(input('Enter a height of the circul: '))\n",
    "area = (1/2)*base**height"
   ]
  },
  {
   "cell_type": "code",
   "execution_count": 2,
   "metadata": {},
   "outputs": [
    {
     "name": "stdout",
     "output_type": "stream",
     "text": [
      "55\n"
     ]
    }
   ],
   "source": [
    "total=0 \n",
    "i=1\n",
    "while i<= 10:\n",
    "    total+=i\n",
    "    i+=1\n",
    "\n",
    "    print(total)"
   ]
  },
  {
   "cell_type": "code",
   "execution_count": 3,
   "metadata": {},
   "outputs": [
    {
     "name": "stdout",
     "output_type": "stream",
     "text": [
      "Enter a natural number: 45\n",
      "1035\n"
     ]
    }
   ],
   "source": [
    "n = int(input('Enter a natural number: '))\n",
    "total=0 \n",
    "i=1\n",
    "while i<= n:\n",
    "    total+=i\n",
    "    i+=1\n",
    "print(total)"
   ]
  },
  {
   "cell_type": "code",
   "execution_count": 9,
   "metadata": {},
   "outputs": [
    {
     "name": "stdout",
     "output_type": "stream",
     "text": [
      "Enter a natural number: 1234\n"
     ]
    },
    {
     "ename": "IndexError",
     "evalue": "string index out of range",
     "output_type": "error",
     "traceback": [
      "\u001b[1;31m---------------------------------------------------------------------------\u001b[0m",
      "\u001b[1;31mIndexError\u001b[0m                                Traceback (most recent call last)",
      "\u001b[1;32m<ipython-input-9-88b5c597dc89>\u001b[0m in \u001b[0;36m<module>\u001b[1;34m\u001b[0m\n\u001b[0;32m      1\u001b[0m \u001b[0mn\u001b[0m \u001b[1;33m=\u001b[0m \u001b[0minput\u001b[0m\u001b[1;33m(\u001b[0m\u001b[1;34m'Enter a natural number: '\u001b[0m\u001b[1;33m)\u001b[0m\u001b[1;33m\u001b[0m\u001b[1;33m\u001b[0m\u001b[0m\n\u001b[1;32m----> 2\u001b[1;33m \u001b[0mn\u001b[0m \u001b[1;33m=\u001b[0m \u001b[0mint\u001b[0m\u001b[1;33m(\u001b[0m\u001b[0mn\u001b[0m\u001b[1;33m[\u001b[0m\u001b[0mi\u001b[0m\u001b[1;33m]\u001b[0m\u001b[1;33m)\u001b[0m\u001b[1;33m\u001b[0m\u001b[1;33m\u001b[0m\u001b[0m\n\u001b[0m\u001b[0;32m      3\u001b[0m \u001b[0mtotal\u001b[0m\u001b[1;33m=\u001b[0m\u001b[1;36m0\u001b[0m\u001b[1;33m\u001b[0m\u001b[1;33m\u001b[0m\u001b[0m\n\u001b[0;32m      4\u001b[0m \u001b[0mi\u001b[0m\u001b[1;33m=\u001b[0m\u001b[1;36m1\u001b[0m\u001b[1;33m\u001b[0m\u001b[1;33m\u001b[0m\u001b[0m\n\u001b[0;32m      5\u001b[0m \u001b[1;32mwhile\u001b[0m \u001b[0mi\u001b[0m\u001b[1;33m<\u001b[0m \u001b[0mlen\u001b[0m\u001b[1;33m(\u001b[0m\u001b[0mn\u001b[0m\u001b[1;33m[\u001b[0m\u001b[0mi\u001b[0m\u001b[1;33m]\u001b[0m\u001b[1;33m)\u001b[0m\u001b[1;33m:\u001b[0m\u001b[1;33m\u001b[0m\u001b[1;33m\u001b[0m\u001b[0m\n",
      "\u001b[1;31mIndexError\u001b[0m: string index out of range"
     ]
    }
   ],
   "source": [
    "n = input('Enter a natural number: ')\n",
    "n = int(n[i]) \n",
    "total=0 \n",
    "i=1\n",
    "while i< len(n[i]):\n",
    "    total+= int(n[i])\n",
    "    i+=1\n",
    "print(total)"
   ]
  },
  {
   "cell_type": "code",
   "execution_count": null,
   "metadata": {},
   "outputs": [],
   "source": []
  }
 ],
 "metadata": {
  "kernelspec": {
   "display_name": "Python 3",
   "language": "python",
   "name": "python3"
  }
 },
 "nbformat": 4,
 "nbformat_minor": 2
}
