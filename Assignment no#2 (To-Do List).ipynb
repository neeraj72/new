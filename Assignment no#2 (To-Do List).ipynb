{
 "cells": [
  {
   "cell_type": "code",
   "execution_count": 1,
   "metadata": {},
   "outputs": [],
   "source": [
    "completed_tasks = []"
   ]
  },
  {
   "cell_type": "code",
   "execution_count": 2,
   "metadata": {},
   "outputs": [],
   "source": [
    "daily_tasks=[\"wake up\",\"complete assignments\",\"work on projects\",\"pray salah\",\"recite quran\",\"call\",\"iftari\",\"taraveeh\"]\n",
    "i = len(completed_tasks)\n",
    "a=0"
   ]
  },
  {
   "cell_type": "code",
   "execution_count": 3,
   "metadata": {},
   "outputs": [
    {
     "name": "stdout",
     "output_type": "stream",
     "text": [
      "enter q whenever you want to stop adding or enter any key to continue: d\n",
      "enter the tasks that you have completed: wake up\n",
      "enter q whenever you want to stop adding or enter any key to continue: x\n",
      "enter the tasks that you have completed: iftari\n",
      "enter q whenever you want to stop adding or enter any key to continue: g\n",
      "enter the tasks that you have completed: sleep\n",
      "the task is not in the to-do list\n",
      "enter q whenever you want to stop adding or enter any key to continue: q\n"
     ]
    }
   ],
   "source": [
    "loop = True\n",
    "while loop == True:\n",
    "    inp = input(\"enter q whenever you want to stop adding or enter any key to continue: \")\n",
    "    if inp!= \"q\":\n",
    "        tasks = input(\"enter the tasks that you have completed: \")\n",
    "        for complete_tasks in daily_tasks:\n",
    "            if(tasks==complete_tasks):\n",
    "                i = daily_tasks.index(tasks)\n",
    "                complete = daily_tasks.pop(i)\n",
    "                completed_tasks.append(complete)\n",
    "        \n",
    "                break\n",
    "\n",
    "    #completed_tasks.append(complete)\n",
    "\n",
    "        else:\n",
    "            print(\"the task is not in the to-do list\")\n",
    "        a=a+1    \n",
    "    else:\n",
    "        loop=False\n"
   ]
  },
  {
   "cell_type": "code",
   "execution_count": 4,
   "metadata": {},
   "outputs": [
    {
     "name": "stdout",
     "output_type": "stream",
     "text": [
      "here are your completed tasks: \n",
      "['wake up', 'iftari']\n"
     ]
    }
   ],
   "source": [
    "if(i<1):\n",
    "    print(\"your list is empty\")\n",
    "else:\n",
    "    print(\"here are your completed tasks: \")\n",
    "    print(completed_tasks)\n",
    "\n",
    "    \n",
    "\n"
   ]
  },
  {
   "cell_type": "code",
   "execution_count": null,
   "metadata": {},
   "outputs": [],
   "source": []
  }
 ],
 "metadata": {
  "kernelspec": {
   "display_name": "Python 3",
   "language": "python",
   "name": "python3"
  },
  "language_info": {
   "codemirror_mode": {
    "name": "ipython",
    "version": 3
   },
   "file_extension": ".py",
   "mimetype": "text/x-python",
   "name": "python",
   "nbconvert_exporter": "python",
   "pygments_lexer": "ipython3",
   "version": "3.7.3"
  }
 },
 "nbformat": 4,
 "nbformat_minor": 2
}
