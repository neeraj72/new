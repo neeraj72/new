{
 "cells": [
  {
   "cell_type": "code",
   "execution_count": 1,
   "metadata": {},
   "outputs": [
    {
     "name": "stdout",
     "output_type": "stream",
     "text": [
      "Hello Neeraj\n"
     ]
    }
   ],
   "source": [
    "print(\"Hello Neeraj\")"
   ]
  },
  {
   "cell_type": "code",
   "execution_count": 1,
   "metadata": {},
   "outputs": [
    {
     "name": "stdout",
     "output_type": "stream",
     "text": [
      "First Name Neeraj\n",
      "Last name Kumar\n",
      "What is your age 23\n",
      "23\n",
      "Hello Neeraj Kumar \n"
     ]
    }
   ],
   "source": [
    "name = input('First Name ')\n",
    "name2 = input('Last name ')\n",
    "age = int(input('What is your age '))\n",
    "\n",
    "#print(' My name is ' + name + name2 + ' and My age is '+ str(age))\n",
    "print(age - 0)\n",
    "#print('My name is ', name, 'and My age is', age,)\n",
    "\n",
    "type(age)\n",
    "\n",
    "print(f'Hello {name} {name2} ')"
   ]
  },
  {
   "cell_type": "code",
   "execution_count": 10,
   "metadata": {},
   "outputs": [
    {
     "name": "stdout",
     "output_type": "stream",
     "text": [
      "First Name Neeraj kumar\n",
      "Last name Pahuja\n",
      "What is your age 23\n",
      "23\n",
      "Hello Neeraj Pahuja \n"
     ]
    }
   ],
   "source": [
    "name, full = input('First Name ').split(\" \")\n",
    "name2 = input('Last name ')\n",
    "age = int(input('What is your age '))\n",
    "\n",
    "#print(' My name is ' + name + name2 + ' and My age is '+ str(age))\n",
    "print(age - 0)\n",
    "#print('My name is ', name, 'and My age is', age,)\n",
    "\n",
    "type(age)\n",
    "\n",
    "print(f'Hello {name} {name2} ')"
   ]
  },
  {
   "cell_type": "code",
   "execution_count": 3,
   "metadata": {},
   "outputs": [
    {
     "name": "stdout",
     "output_type": "stream",
     "text": [
      "Enter first num1: 45\n",
      "Enter second num2: 46\n",
      "Enter third num3: 47\n",
      " Average of three numbers is 106.66666666666667\n"
     ]
    }
   ],
   "source": [
    "num1 = input('Enter first num1: ')\n",
    "num2 = input('Enter second num2: ')\n",
    "num3 = input('Enter third num3: ')\n",
    "(int(num1) +int(num2) +int(num3) /3)\n",
    "print(f' Average of three numbers is {(int(num1)+int(num2) +int(num3) /3 )}')"
   ]
  },
  {
   "cell_type": "code",
   "execution_count": 2,
   "metadata": {},
   "outputs": [
    {
     "name": "stdout",
     "output_type": "stream",
     "text": [
      "enter any three numbers: 56 78 80\n",
      "Average of three numbers is 160.66666666666666\n"
     ]
    }
   ],
   "source": [
    "num1, num2, num3,= input(\"enter any three numbers: \").split(\" \")\n",
    "print(f'Average of three numbers is {(int(num1) + int(num2) + int(num3) / 3)}')\n",
    "\n"
   ]
  },
  {
   "cell_type": "code",
   "execution_count": 6,
   "metadata": {},
   "outputs": [
    {
     "name": "stdout",
     "output_type": "stream",
     "text": [
      "enter first number: 45\n",
      "enter second number: 56\n",
      "Total is 50.5\n"
     ]
    }
   ],
   "source": [
    "first_Num = float(input('enter first number: '))\n",
    "second_Num = float(input('enter second number: '))\n",
    " \n",
    "total_number = first_Num + second_Num\n",
    "print('Total is ' + str(total_number / 2))"
   ]
  },
  {
   "cell_type": "code",
   "execution_count": 11,
   "metadata": {},
   "outputs": [
    {
     "name": "stdout",
     "output_type": "stream",
     "text": [
      "First num 12\n",
      "Second num 3\n",
      "Third num 45\n",
      "Average of three numbers is 30.0\n"
     ]
    }
   ],
   "source": [
    "num1 = int(input('First num '))\n",
    "num2 = int(input('Second num '))\n",
    "num3 = int(input('Third num '))\n",
    "\n",
    "result = \"num1 + num2 + num3 /3\"\n",
    "print(f'Average of three numbers is {num1 + num2 + num3 /3}')"
   ]
  },
  {
   "cell_type": "code",
   "execution_count": null,
   "metadata": {},
   "outputs": [
    {
     "name": "stdout",
     "output_type": "stream",
     "text": [
      "First Name Hamdan\n",
      "Last name shaikh\n",
      "What is your age 22\n",
      "22\n",
      "Hello Hamdan shaikh \n",
      "Enter first num1: 03337101998\n",
      "Enter second num2: 03118120231\n",
      "Enter third num3: 03118120242\n",
      " Average of three numbers is 7494595643.0\n"
     ]
    }
   ],
   "source": [
    "name = input('First Name ')\n",
    "name2 = input('Last name ')\n",
    "age = int(input('What is your age '))\n",
    "\n",
    "#print(' My name is ' + name + name2 + ' and My age is '+ str(age))\n",
    "print(age - 0)\n",
    "#print('My name is ', name, 'and My age is', age,)\n",
    "\n",
    "type(age)\n",
    "\n",
    "print(f'Hello {name} {name2} ')\n",
    "\n",
    "\n",
    "num1 = input('Enter first num1: ')\n",
    "num2 = input('Enter second num2: ')\n",
    "num3 = input('Enter third num3: ')\n",
    "(int(num1) +int(num2) +int(num3) /3)\n",
    "print(f' Average of three numbers is {(int(num1)+int(num2) +int(num3) /3 )}')\n",
    "\n",
    "\n",
    "\n",
    "\n",
    "num1 = int(input('First num '))\n",
    "num2 = int(input('Second num '))\n",
    "num3 = int(input('Third num '))\n",
    "\n",
    "result = \"num1 + num2 + num3 /3\"\n",
    "print(f'Average of three numbers is {num1 + num2 + num3 /3}')"
   ]
  },
  {
   "cell_type": "code",
   "execution_count": 3,
   "metadata": {},
   "outputs": [
    {
     "name": "stdout",
     "output_type": "stream",
     "text": [
      "Please enter your informationI am a neeraj\n",
      "Which was your last Job I was a techer\n",
      "This is your information ['I am a neeraj'] ['I', 'was', 'a', 'techer']\n"
     ]
    }
   ],
   "source": [
    "lang = input(\"Please enter your information\").split(\", . \")\n",
    "\n",
    "print(f'This is your information {lang} {input(\"Which was your last Job \").split(\" \")}')"
   ]
  },
  {
   "cell_type": "code",
   "execution_count": 3,
   "metadata": {},
   "outputs": [
    {
     "name": "stdout",
     "output_type": "stream",
     "text": [
      "Enter your percentage 79\n",
      "A\n"
     ]
    }
   ],
   "source": [
    "marks = int(input(\"Enter your percentage \"))\n",
    "if marks >= 90:\n",
    "    print(\"A1\")\n",
    "elif marks >= 80:\n",
    "    print('A+')\n",
    "elif marks <= 80:\n",
    "    print('A')\n",
    "    \n",
    "else:\n",
    "    print('Please do hard practice')"
   ]
  },
  {
   "cell_type": "code",
   "execution_count": 1,
   "metadata": {},
   "outputs": [
    {
     "name": "stdout",
     "output_type": "stream",
     "text": [
      "Student Name: Hamze\n",
      "S//O or D/O: afsdg\\\n",
      "Enter your class with section: 11312\\\n",
      "Enter your Roll number: 12345\n",
      "Enter your marks: 899\n",
      "Your percentage is: 81.72727272727273 \n",
      "A+\n"
     ]
    }
   ],
   "source": [
    "students= ['Neeraj', 'Ahmed', 'Ali', 'Rehman', 'Rohit', 'Shanker']\n",
    "name= input('Student Name: ').split(' ')\n",
    "if name == students:\n",
    "    name=blanklist.pop(students)\n",
    "    print('you are not in list.')\n",
    "\n",
    "\n",
    "father_name = input('S//O or D/O: ').split(' ')\n",
    "class_section = input('Enter your class with section: ').split(' ') \n",
    "roll_num= input('Enter your Roll number: ')\n",
    "\n",
    "total_marks = 1100\n",
    "obtain_marks= int(input('Enter your marks: '))\n",
    "percentage= obtain_marks*100/total_marks\n",
    "print(f'Your percentage is: {percentage} ')\n",
    "\n",
    "\n",
    "if percentage >= 90:\n",
    "    print(\"A1\")\n",
    "elif percentage >= 70 and percentage < 90:\n",
    "    print('A+')\n",
    "elif percentage >= 60:\n",
    "    print('A')\n",
    "    \n",
    "else:\n",
    "    print('Sorry You are not in list.')\n"
   ]
  },
  {
   "cell_type": "code",
   "execution_count": 22,
   "metadata": {},
   "outputs": [
    {
     "name": "stdout",
     "output_type": "stream",
     "text": [
      "Enter your number: 80\n",
      " Congradulation You are the Winner \n"
     ]
    }
   ],
   "source": [
    "winning_number= '80'\n",
    "gussed_number= input('Enter your number: ')\n",
    "gusserd_number= int(gussed_number)\n",
    "if winning_number == gussed_number:\n",
    "    print(' Congradulation You are the Winner ')\n",
    "else:\n",
    "    print('Please Try Again')\n",
    "    if winning_number > gussed_number:\n",
    "        print('Too Low')\n",
    "    else:\n",
    "        print('Too High')\n",
    "            \n",
    "\n"
   ]
  },
  {
   "cell_type": "code",
   "execution_count": 3,
   "metadata": {},
   "outputs": [
    {
     "name": "stdout",
     "output_type": "stream",
     "text": [
      "Enter your marks: 908\n",
      "Input Student personality: great\n",
      "You are not allowed to get admission\n"
     ]
    }
   ],
   "source": [
    "marks = input('Enter your marks: ')\n",
    "personality = input('Input Student personality: ')\n",
    "\n",
    "if marks == 908 or personality == 'Better':\n",
    "    print('Condition True')\n",
    "else:\n",
    "    print('You are not allowed to get admission')\n",
    "    \n"
   ]
  },
  {
   "cell_type": "code",
   "execution_count": 1,
   "metadata": {},
   "outputs": [
    {
     "name": "stdout",
     "output_type": "stream",
     "text": [
      "What is your name? abc\n",
      "What is your age 18\n",
      "Condition True\n"
     ]
    }
   ],
   "source": [
    "name = input('What is your name? ')\n",
    "age = input('What is your age ')\n",
    "\n",
    "if name== \"abc\" or age== 19:\n",
    "    print('Condition True')\n",
    "else:\n",
    "    print('Condition False')\n",
    "        \n",
    "    "
   ]
  },
  {
   "cell_type": "code",
   "execution_count": 7,
   "metadata": {},
   "outputs": [
    {
     "name": "stdout",
     "output_type": "stream",
     "text": [
      "Enter your marks: 987\n",
      "Please Enter Student's Behaviour bad\n",
      "Condition False\n"
     ]
    }
   ],
   "source": [
    "marks = input('Enter your marks: ')\n",
    "behaviour = input('Please Enter Student\\'s Behaviour ')\n",
    "\n",
    "if marks == 908 or behaviour == 'Great':\n",
    "    print('Condition True')\n",
    "else:\n",
    "    print('Condition False')"
   ]
  },
  {
   "cell_type": "code",
   "execution_count": 14,
   "metadata": {},
   "outputs": [
    {
     "name": "stdout",
     "output_type": "stream",
     "text": [
      "Enter your name: asad\n",
      "Enter your age: 12\n",
      "Please come and enjoy.\n"
     ]
    }
   ],
   "source": [
    "user_name= input('Enter your name: ')\n",
    "user_age = input('Enter your age: ')\n",
    "user_age = int(user_age)\n",
    "if user_age >= 10 and (user_name[0]== 'a' or user_name[0]=='A' ):\n",
    "\n",
    "    print('Please come and enjoy.')\n",
    "else:\n",
    "    print('You are not allowed')"
   ]
  },
  {
   "cell_type": "code",
   "execution_count": 1,
   "metadata": {},
   "outputs": [
    {
     "name": "stdout",
     "output_type": "stream",
     "text": [
      "Enter your name: Neeraj\n",
      "Enter your age: 14\n",
      "Please pay 150\n"
     ]
    }
   ],
   "source": [
    "name = input('Enter your name: ')\n",
    "age = input('Enter your age: ')\n",
    "age= int(age)\n",
    "\n",
    "if 0<age<=3:\n",
    "    print('Free for child')\n",
    "elif 3<age<= 11:\n",
    "    print('Please pay 100')\n",
    "elif 11<age<= 25:\n",
    "    print('Please pay 150')\n",
    "else:\n",
    "    print('Please pay 200')\n",
    "    \n"
   ]
  },
  {
   "cell_type": "markdown",
   "metadata": {},
   "source": [
    "#  Class Attendance\n"
   ]
  },
  {
   "cell_type": "code",
   "execution_count": 4,
   "metadata": {},
   "outputs": [
    {
     "name": "stdout",
     "output_type": "stream",
     "text": [
      "Enter student name: Neeraj\n",
      "Present in class\n"
     ]
    }
   ],
   "source": [
    "name = 'Neeraj, Hanesh, Avinash, Madhumati, Kashish, Sonam '\n",
    "if (input('Enter student name: ')) in name:\n",
    "    print('Present in class')\n",
    "else:\n",
    "    print('Not present in class')\n"
   ]
  },
  {
   "cell_type": "code",
   "execution_count": 8,
   "metadata": {},
   "outputs": [
    {
     "name": "stdout",
     "output_type": "stream",
     "text": [
      "Hello World\n",
      "Hello World\n",
      "Hello World\n",
      "Hello World\n",
      "Hello World\n",
      "Hello World\n",
      "Hello World\n",
      "Hello World\n"
     ]
    }
   ],
   "source": [
    "i = 3 \n",
    "while i<= 10:\n",
    "    print('Hello World')\n",
    "    i = i + 1"
   ]
  },
  {
   "cell_type": "code",
   "execution_count": 3,
   "metadata": {},
   "outputs": [
    {
     "name": "stdout",
     "output_type": "stream",
     "text": [
      "1275\n"
     ]
    }
   ],
   "source": [
    "total=  0\n",
    "i = 1\n",
    "while i<= 50: \n",
    "    \n",
    "    total += i\n",
    "    i += 1\n",
    "print(total)"
   ]
  },
  {
   "cell_type": "code",
   "execution_count": 4,
   "metadata": {},
   "outputs": [
    {
     "name": "stdout",
     "output_type": "stream",
     "text": [
      "Enter your number: 78\n",
      "3081\n"
     ]
    }
   ],
   "source": [
    "n = int(input('Enter your number: '))\n",
    "total = 0\n",
    "i = 1\n",
    "while i<=n:\n",
    "    \n",
    "    total += i\n",
    "    i += 1\n",
    "print(total)"
   ]
  },
  {
   "cell_type": "code",
   "execution_count": 8,
   "metadata": {},
   "outputs": [
    {
     "name": "stdout",
     "output_type": "stream",
     "text": [
      "Enter a number: 355677\n",
      "33\n"
     ]
    }
   ],
   "source": [
    "n = input('Enter a number: ')\n",
    "total = 0\n",
    "i = 0\n",
    "while i < len(n):\n",
    "    total += int(n[i])\n",
    "    i += 1\n",
    "print(total)\n"
   ]
  },
  {
   "cell_type": "code",
   "execution_count": 11,
   "metadata": {},
   "outputs": [
    {
     "name": "stdout",
     "output_type": "stream",
     "text": [
      "Enter your name: Neeraj Kumar\n"
     ]
    },
    {
     "ename": "NameError",
     "evalue": "name 'tym_vari' is not defined",
     "output_type": "error",
     "traceback": [
      "\u001b[1;31m---------------------------------------------------------------------------\u001b[0m",
      "\u001b[1;31mNameError\u001b[0m                                 Traceback (most recent call last)",
      "\u001b[1;32m<ipython-input-11-1e61fc7295e6>\u001b[0m in \u001b[0;36m<module>\u001b[1;34m\u001b[0m\n\u001b[0;32m      4\u001b[0m \u001b[1;33m\u001b[0m\u001b[0m\n\u001b[0;32m      5\u001b[0m \u001b[1;32mwhile\u001b[0m \u001b[0mi\u001b[0m \u001b[1;33m<\u001b[0m \u001b[0mlen\u001b[0m\u001b[1;33m(\u001b[0m\u001b[0mname\u001b[0m\u001b[1;33m)\u001b[0m\u001b[1;33m:\u001b[0m\u001b[1;33m\u001b[0m\u001b[1;33m\u001b[0m\u001b[0m\n\u001b[1;32m----> 6\u001b[1;33m     \u001b[1;32mif\u001b[0m \u001b[0mname\u001b[0m\u001b[1;33m[\u001b[0m\u001b[0mi\u001b[0m\u001b[1;33m]\u001b[0m \u001b[1;32mnot\u001b[0m \u001b[1;32min\u001b[0m \u001b[0mtym_vari\u001b[0m\u001b[1;33m:\u001b[0m\u001b[1;33m\u001b[0m\u001b[1;33m\u001b[0m\u001b[0m\n\u001b[0m\u001b[0;32m      7\u001b[0m         \u001b[0mtym_vari\u001b[0m \u001b[1;33m+=\u001b[0m \u001b[0mname\u001b[0m\u001b[1;33m[\u001b[0m\u001b[0mi\u001b[0m\u001b[1;33m]\u001b[0m\u001b[1;33m\u001b[0m\u001b[1;33m\u001b[0m\u001b[0m\n\u001b[0;32m      8\u001b[0m         \u001b[0mprint\u001b[0m\u001b[1;33m(\u001b[0m\u001b[1;34mf'{name[i]}: {name.count(name[i])}'\u001b[0m\u001b[1;33m)\u001b[0m\u001b[1;33m\u001b[0m\u001b[1;33m\u001b[0m\u001b[0m\n",
      "\u001b[1;31mNameError\u001b[0m: name 'tym_vari' is not defined"
     ]
    }
   ],
   "source": [
    "name = input('Enter your name: ')\n",
    "tym_vari: \"\"\n",
    "i = 0\n",
    "\n",
    "while i < len(name):\n",
    "    if name[i] not in tym_vari:\n",
    "        tym_vari += name[i]\n",
    "        print(f'{name[i]}: {name.count(name[i])}')\n",
    "    i += 1"
   ]
  },
  {
   "cell_type": "code",
   "execution_count": 14,
   "metadata": {},
   "outputs": [
    {
     "name": "stdout",
     "output_type": "stream",
     "text": [
      "Enter your name: Neeraj Kumar\n"
     ]
    },
    {
     "ename": "TypeError",
     "evalue": "'in <string>' requires string as left operand, not int",
     "output_type": "error",
     "traceback": [
      "\u001b[1;31m---------------------------------------------------------------------------\u001b[0m",
      "\u001b[1;31mTypeError\u001b[0m                                 Traceback (most recent call last)",
      "\u001b[1;32m<ipython-input-14-e578b74d15ff>\u001b[0m in \u001b[0;36m<module>\u001b[1;34m\u001b[0m\n\u001b[0;32m      3\u001b[0m \u001b[0mi\u001b[0m \u001b[1;33m=\u001b[0m \u001b[1;36m0\u001b[0m\u001b[1;33m\u001b[0m\u001b[1;33m\u001b[0m\u001b[0m\n\u001b[0;32m      4\u001b[0m \u001b[1;32mwhile\u001b[0m \u001b[0mi\u001b[0m \u001b[1;33m<\u001b[0m \u001b[0mlen\u001b[0m\u001b[1;33m(\u001b[0m\u001b[0mname\u001b[0m\u001b[1;33m)\u001b[0m\u001b[1;33m:\u001b[0m\u001b[1;33m\u001b[0m\u001b[1;33m\u001b[0m\u001b[0m\n\u001b[1;32m----> 5\u001b[1;33m     \u001b[1;32mif\u001b[0m \u001b[0mi\u001b[0m \u001b[1;32mnot\u001b[0m \u001b[1;32min\u001b[0m \u001b[0mtemp_vari\u001b[0m\u001b[1;33m:\u001b[0m\u001b[1;33m\u001b[0m\u001b[1;33m\u001b[0m\u001b[0m\n\u001b[0m\u001b[0;32m      6\u001b[0m         \u001b[0mtemp_vari\u001b[0m \u001b[1;33m+=\u001b[0m\u001b[0mname\u001b[0m\u001b[1;33m[\u001b[0m\u001b[0mi\u001b[0m\u001b[1;33m]\u001b[0m\u001b[1;33m\u001b[0m\u001b[1;33m\u001b[0m\u001b[0m\n\u001b[0;32m      7\u001b[0m         \u001b[0mprint\u001b[0m\u001b[1;33m(\u001b[0m\u001b[1;34mf'{name[i]}: {name.count(name[i])}'\u001b[0m\u001b[1;33m)\u001b[0m\u001b[1;33m\u001b[0m\u001b[1;33m\u001b[0m\u001b[0m\n",
      "\u001b[1;31mTypeError\u001b[0m: 'in <string>' requires string as left operand, not int"
     ]
    }
   ],
   "source": [
    "name = input('Enter your name: ')\n",
    "temp_vari = \"\"\n",
    "i = 0\n",
    "while i < len(name):\n",
    "    if i not in temp_vari:\n",
    "        temp_vari +=name[i]\n",
    "        print(f'{name[i]}: {name.count(name[i])}')\n",
    "        i+= 1"
   ]
  },
  {
   "cell_type": "code",
   "execution_count": 9,
   "metadata": {},
   "outputs": [
    {
     "name": "stdout",
     "output_type": "stream",
     "text": [
      "Hello World: 1\n",
      "Hello World: 2\n",
      "Hello World: 3\n",
      "Hello World: 4\n",
      "Hello World: 5\n",
      "Hello World: 6\n",
      "Hello World: 7\n",
      "Hello World: 8\n",
      "Hello World: 9\n",
      "Hello World: 10\n"
     ]
    }
   ],
   "source": [
    " \n",
    "for i in range(1, 11):\n",
    "    print(f'Hello World: {i}')"
   ]
  },
  {
   "cell_type": "code",
   "execution_count": 12,
   "metadata": {},
   "outputs": [
    {
     "name": "stdout",
     "output_type": "stream",
     "text": [
      "Enter a number: 56\n",
      "1596\n"
     ]
    }
   ],
   "source": [
    "num = int(input('Enter a number: '))\n",
    "total = 0\n",
    "for num in range(1, num+1 ):\n",
    "    total+= num\n",
    "print(total)"
   ]
  },
  {
   "cell_type": "code",
   "execution_count": 1,
   "metadata": {},
   "outputs": [
    {
     "name": "stdout",
     "output_type": "stream",
     "text": [
      "Enter your number: Neeraj Kumar\n"
     ]
    },
    {
     "ename": "NameError",
     "evalue": "name 'i' is not defined",
     "output_type": "error",
     "traceback": [
      "\u001b[1;31m---------------------------------------------------------------------------\u001b[0m",
      "\u001b[1;31mNameError\u001b[0m                                 Traceback (most recent call last)",
      "\u001b[1;32m<ipython-input-1-c8a25b8c0f08>\u001b[0m in \u001b[0;36m<module>\u001b[1;34m\u001b[0m\n\u001b[0;32m      1\u001b[0m \u001b[0mtotal\u001b[0m\u001b[1;33m=\u001b[0m \u001b[1;36m0\u001b[0m\u001b[1;33m\u001b[0m\u001b[1;33m\u001b[0m\u001b[0m\n\u001b[0;32m      2\u001b[0m \u001b[0mn\u001b[0m \u001b[1;33m=\u001b[0m \u001b[0minput\u001b[0m\u001b[1;33m(\u001b[0m\u001b[1;34m'Enter your number: '\u001b[0m\u001b[1;33m)\u001b[0m\u001b[1;33m\u001b[0m\u001b[1;33m\u001b[0m\u001b[0m\n\u001b[1;32m----> 3\u001b[1;33m \u001b[1;32mif\u001b[0m \u001b[0mi\u001b[0m \u001b[1;32mnot\u001b[0m \u001b[1;32min\u001b[0m \u001b[0mrange\u001b[0m\u001b[1;33m(\u001b[0m\u001b[1;36m0\u001b[0m\u001b[1;33m,\u001b[0m \u001b[0mlen\u001b[0m\u001b[1;33m[\u001b[0m\u001b[0mn\u001b[0m\u001b[1;33m]\u001b[0m\u001b[1;33m)\u001b[0m\u001b[1;33m:\u001b[0m\u001b[1;33m\u001b[0m\u001b[1;33m\u001b[0m\u001b[0m\n\u001b[0m\u001b[0;32m      4\u001b[0m     \u001b[0mtotal\u001b[0m\u001b[1;33m+=\u001b[0m \u001b[0mint\u001b[0m\u001b[1;33m(\u001b[0m\u001b[0mn\u001b[0m\u001b[1;33m[\u001b[0m\u001b[0mi\u001b[0m\u001b[1;33m]\u001b[0m\u001b[1;33m)\u001b[0m\u001b[1;33m\u001b[0m\u001b[1;33m\u001b[0m\u001b[0m\n\u001b[0;32m      5\u001b[0m \u001b[0mprint\u001b[0m\u001b[1;33m(\u001b[0m\u001b[0mtotal\u001b[0m\u001b[1;33m)\u001b[0m\u001b[1;33m\u001b[0m\u001b[1;33m\u001b[0m\u001b[0m\n",
      "\u001b[1;31mNameError\u001b[0m: name 'i' is not defined"
     ]
    }
   ],
   "source": [
    "total= 0\n",
    "n = input('Enter your number: ')\n",
    "if i not in range(0, len[n]):\n",
    "    total+= int(n[i])\n",
    "print(total)"
   ]
  },
  {
   "cell_type": "code",
   "execution_count": 5,
   "metadata": {},
   "outputs": [
    {
     "name": "stdout",
     "output_type": "stream",
     "text": [
      "Enter your name: Neeraj Kumar\n",
      "N: 1\n",
      "e: 2\n",
      "r: 2\n",
      "a: 2\n",
      "j: 1\n",
      " : 1\n",
      "K: 1\n",
      "u: 1\n",
      "m: 1\n"
     ]
    }
   ],
   "source": [
    "name= input('Enter your name: ')\n",
    "temp= \"\"\n",
    "for i in range(len(name)):\n",
    "    if name[i] not in temp:\n",
    "        print(f'{name[i]}: {name.count(name[i])}')\n",
    "        temp += name[i] \n",
    "    "
   ]
  },
  {
   "cell_type": "code",
   "execution_count": 22,
   "metadata": {},
   "outputs": [
    {
     "name": "stdout",
     "output_type": "stream",
     "text": [
      "Enter your name: Ahmed\n",
      "Enter your company name: Huusa\n",
      "How much experince you have: 5\n",
      "Good\n",
      "Enter your Education: Four years Bachelors\n",
      "We will call you.\n"
     ]
    }
   ],
   "source": [
    "name=  input('Enter your name: ')\n",
    "company = input('Enter your company name: ')\n",
    "Experince = int(input('How much experince you have: '))\n",
    "if Experince >= 2:\n",
    "    print('Good')\n",
    "else:\n",
    "    print('You are not eligbile')\n",
    "qualification= input('Enter your Education: ')\n",
    "\n",
    "if qualification == 'Master':\n",
    "    print('Congradulation')\n",
    "    \n",
    "elif qualification == 'Four years Bachelors':\n",
    "    print('We will call you.')\n",
    "\n",
    "else:\n",
    "    print('Sorry your qualification is not enough for this job.')"
   ]
  },
  {
   "cell_type": "code",
   "execution_count": 23,
   "metadata": {},
   "outputs": [],
   "source": [
    "students = ['Neeraj', 'Ahmed', 'Hamza', 'Ali']"
   ]
  },
  {
   "cell_type": "code",
   "execution_count": 24,
   "metadata": {},
   "outputs": [
    {
     "data": {
      "text/plain": [
       "['Neeraj', 'Ahmed', 'Ali']"
      ]
     },
     "execution_count": 24,
     "metadata": {},
     "output_type": "execute_result"
    }
   ],
   "source": [
    "del students[2]\n",
    "students"
   ]
  },
  {
   "cell_type": "code",
   "execution_count": 24,
   "metadata": {},
   "outputs": [
    {
     "ename": "NameError",
     "evalue": "name 'students' is not defined",
     "output_type": "error",
     "traceback": [
      "\u001b[1;31m---------------------------------------------------------------------------\u001b[0m",
      "\u001b[1;31mNameError\u001b[0m                                 Traceback (most recent call last)",
      "\u001b[1;32m<ipython-input-24-026ad92cee50>\u001b[0m in \u001b[0;36m<module>\u001b[1;34m\u001b[0m\n\u001b[1;32m----> 1\u001b[1;33m \u001b[0mstudents\u001b[0m\u001b[1;33m\u001b[0m\u001b[1;33m\u001b[0m\u001b[0m\n\u001b[0m\u001b[0;32m      2\u001b[0m \u001b[0mstudents\u001b[0m\u001b[1;33m.\u001b[0m\u001b[0mremove\u001b[0m\u001b[1;33m(\u001b[0m\u001b[1;36m2\u001b[0m\u001b[1;33m)\u001b[0m\u001b[1;33m\u001b[0m\u001b[1;33m\u001b[0m\u001b[0m\n",
      "\u001b[1;31mNameError\u001b[0m: name 'students' is not defined"
     ]
    }
   ],
   "source": [
    "students\n",
    "students.remove(2)\n"
   ]
  },
  {
   "cell_type": "code",
   "execution_count": 27,
   "metadata": {},
   "outputs": [
    {
     "data": {
      "text/plain": [
       "[]"
      ]
     },
     "execution_count": 27,
     "metadata": {},
     "output_type": "execute_result"
    }
   ],
   "source": [
    "students.clear()\n",
    "students"
   ]
  },
  {
   "cell_type": "code",
   "execution_count": 28,
   "metadata": {},
   "outputs": [],
   "source": [
    "city =['Karachi', 'Sukkur', 'Larkana']"
   ]
  },
  {
   "cell_type": "code",
   "execution_count": 29,
   "metadata": {},
   "outputs": [
    {
     "data": {
      "text/plain": [
       "['Karachi', 'Sukkur', 'Larkana', 'Quetta']"
      ]
     },
     "execution_count": 29,
     "metadata": {},
     "output_type": "execute_result"
    }
   ],
   "source": [
    "city.append('Quetta')\n",
    "city"
   ]
  },
  {
   "cell_type": "code",
   "execution_count": 31,
   "metadata": {},
   "outputs": [
    {
     "data": {
      "text/plain": [
       "['Karachi', 'Sukkur', 'Larkana', 'sibi', 'sibi', 'Quetta']"
      ]
     },
     "execution_count": 31,
     "metadata": {},
     "output_type": "execute_result"
    }
   ],
   "source": [
    "city.insert(3, 'sibi')\n",
    "city"
   ]
  },
  {
   "cell_type": "code",
   "execution_count": 13,
   "metadata": {},
   "outputs": [],
   "source": [
    "list1 = ['Oil', 'Floor', 'Water', 'Fruits']"
   ]
  },
  {
   "cell_type": "code",
   "execution_count": 14,
   "metadata": {},
   "outputs": [
    {
     "data": {
      "text/plain": [
       "['Oil', 'Floor', 'Fruits']"
      ]
     },
     "execution_count": 14,
     "metadata": {},
     "output_type": "execute_result"
    }
   ],
   "source": [
    "del list1[2]\n",
    "list1\n"
   ]
  },
  {
   "cell_type": "code",
   "execution_count": 15,
   "metadata": {},
   "outputs": [
    {
     "data": {
      "text/plain": [
       "['Oil', 'Floor', 'Fruits']"
      ]
     },
     "execution_count": 15,
     "metadata": {},
     "output_type": "execute_result"
    }
   ],
   "source": [
    "list1"
   ]
  },
  {
   "cell_type": "code",
   "execution_count": 25,
   "metadata": {},
   "outputs": [
    {
     "data": {
      "text/plain": [
       "['Oil', 'Fruits']"
      ]
     },
     "execution_count": 25,
     "metadata": {},
     "output_type": "execute_result"
    }
   ],
   "source": [
    "list2=list1\n",
    "list2.remove('Floor')\n",
    "list2"
   ]
  },
  {
   "cell_type": "code",
   "execution_count": 31,
   "metadata": {},
   "outputs": [],
   "source": [
    "mytupple = ('Neeraj', 'Rohan', 'Mahesh', 'Manesh', 12, 13, 14, 15)"
   ]
  },
  {
   "cell_type": "code",
   "execution_count": 34,
   "metadata": {},
   "outputs": [
    {
     "data": {
      "text/plain": [
       "'Manesh'"
      ]
     },
     "execution_count": 34,
     "metadata": {},
     "output_type": "execute_result"
    }
   ],
   "source": [
    "mytupple[3]"
   ]
  },
  {
   "cell_type": "code",
   "execution_count": 35,
   "metadata": {},
   "outputs": [
    {
     "data": {
      "text/plain": [
       "('Neeraj', 'Rohan', 'Mahesh', 'Manesh', 12, 13, 14, 15)"
      ]
     },
     "execution_count": 35,
     "metadata": {},
     "output_type": "execute_result"
    }
   ],
   "source": [
    "mytupple"
   ]
  },
  {
   "cell_type": "code",
   "execution_count": 46,
   "metadata": {},
   "outputs": [
    {
     "data": {
      "text/plain": [
       "3"
      ]
     },
     "execution_count": 46,
     "metadata": {},
     "output_type": "execute_result"
    }
   ],
   "source": [
    "students = 'Madhu', 'Kashish', 'Suman', 'Manesh'\n",
    "all_students=mytupple + students\n",
    "all_students.index('Manesh')"
   ]
  },
  {
   "cell_type": "code",
   "execution_count": 53,
   "metadata": {},
   "outputs": [
    {
     "name": "stdout",
     "output_type": "stream",
     "text": [
      "A Square of rectangle is: 12\n"
     ]
    }
   ],
   "source": [
    "square= int(input('A Square of rectangle is: '))"
   ]
  },
  {
   "cell_type": "code",
   "execution_count": 5,
   "metadata": {},
   "outputs": [
    {
     "name": "stdout",
     "output_type": "stream",
     "text": [
      "Enter the radius of the circul: 0.5\n",
      "Enter the area of the cirul: 3.1416\n",
      "Radius of the circul is 0.5 3.1416\n"
     ]
    }
   ],
   "source": [
    "radius = float(input('Enter the radius of the circul: '))\n",
    "area =float(input('Enter the area of the cirul: '))*radius**2\n",
    "#area2=area*radius**2\n",
    "print(f'Radius of the circul is {radius} {area}')\n"
   ]
  },
  {
   "cell_type": "code",
   "execution_count": null,
   "metadata": {},
   "outputs": [],
   "source": []
  }
 ],
 "metadata": {
  "kernelspec": {
   "display_name": "Python 3",
   "language": "python",
   "name": "python3"
  },
  "language_info": {
   "codemirror_mode": {
    "name": "ipython",
    "version": 3
   },
   "file_extension": ".py",
   "mimetype": "text/x-python",
   "name": "python",
   "nbconvert_exporter": "python",
   "pygments_lexer": "ipython3",
   "version": "3.7.3"
  }
 },
 "nbformat": 4,
 "nbformat_minor": 2
}
