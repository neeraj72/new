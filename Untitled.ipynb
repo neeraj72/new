{
 "cells": [
  {
   "cell_type": "code",
   "execution_count": 5,
   "metadata": {},
   "outputs": [
    {
     "name": "stdout",
     "output_type": "stream",
     "text": [
      "do you want to select any task: Y\n",
      "Task to do: Petrol\n",
      "Your remaining task:,['Cooking Oil', 'Floor', 'Vagitables', 'Drinking Water']\n",
      "Completed tasks:['Petrol']\n"
     ]
    }
   ],
   "source": [
    "ListToDo =(['Petrol','Cooking Oil',  'Floor', 'Vagitables', 'Drinking Water'])\n",
    "blank_list=[]\n",
    "\n",
    "ques='y'\n",
    "i=0\n",
    "while ques == 'y':\n",
    "    \n",
    "    ques=input('do you want to select any task: ')\n",
    "    if (ques=='y' or ques=='Y'):\n",
    "        selected_tasks= input('Task to do: ')\n",
    "        blank_list.append(selected_tasks)\n",
    "        if selected_tasks in ListToDo:\n",
    "            i=ListToDo.index(selected_tasks)\n",
    "            ListToDo.pop(i)\n",
    "        pass\n",
    "        \n",
    "print(f'Your remaining task:,{ListToDo}')\n",
    "print(f'Completed tasks:{blank_list}')\n",
    "\n"
   ]
  },
  {
   "cell_type": "code",
   "execution_count": 5,
   "metadata": {},
   "outputs": [
    {
     "name": "stdout",
     "output_type": "stream",
     "text": [
      "Enter a number: -1\n",
      "Negative Number\n"
     ]
    }
   ],
   "source": [
    "num1= int(input('Enter a number: '))\n",
    "if num1== 0:\n",
    "    print('postive number')\n",
    "else:\n",
    "    print('Negative Number')"
   ]
  },
  {
   "cell_type": "code",
   "execution_count": 6,
   "metadata": {},
   "outputs": [
    {
     "name": "stdout",
     "output_type": "stream",
     "text": [
      "Enter a number: 3\n",
      "postive number\n"
     ]
    }
   ],
   "source": [
    "num2= int(input('Enter a number: '))\n",
    "if num2>= 0:\n",
    "    print('postive number')\n",
    "else:\n",
    "    print('Negative Number')"
   ]
  },
  {
   "cell_type": "code",
   "execution_count": 1,
   "metadata": {},
   "outputs": [
    {
     "name": "stdout",
     "output_type": "stream",
     "text": [
      "Enter a number: 0\n",
      "Zeor Entered\n"
     ]
    }
   ],
   "source": [
    "num3= int(input('Enter a number: '))\n",
    "if num3== 0:\n",
    "    print('Zeor Entered')\n",
    "else:\n",
    "    print('Negative Number')"
   ]
  },
  {
   "cell_type": "code",
   "execution_count": 2,
   "metadata": {},
   "outputs": [
    {
     "name": "stdout",
     "output_type": "stream",
     "text": [
      "Enter denominter: 4\n",
      "Enter nominater: 2\n",
      "Completely divisable\n"
     ]
    }
   ],
   "source": [
    "num1= int(input('Enter denominter: '))\n",
    "num2 = int(input('Enter nominater: '))\n",
    "if num1% num2 ==0:\n",
    "    print('Completely divisable')\n",
    "else:\n",
    "    print('Not completely divisable')"
   ]
  },
  {
   "cell_type": "code",
   "execution_count": 5,
   "metadata": {},
   "outputs": [
    {
     "name": "stdout",
     "output_type": "stream",
     "text": [
      "Enter a radius of the sphere: 1\n",
      "Volume of the sphere is 4.189333333333333 and radius of the sphere is 1\n"
     ]
    }
   ],
   "source": [
    "num1=int(input('Enter a radius of the sphere: '))\n",
    "volume=(4/3)*3.142*num1**3\n",
    "print('Volume of the sphere is', volume, 'and radius of the sphere is',num1,)"
   ]
  },
  {
   "cell_type": "code",
   "execution_count": 6,
   "metadata": {},
   "outputs": [
    {
     "name": "stdout",
     "output_type": "stream",
     "text": [
      "Enter a string: hi\n",
      "Enter how many string you need to print four times: 4\n",
      "we need 4 to print hihihihi\n"
     ]
    }
   ],
   "source": [
    "string = input('Enter a string: ')\n",
    "copies = int(input('Enter how many string you need to print four times: '))\n",
    "print('we need', copies, 'to print',string*copies,)"
   ]
  },
  {
   "cell_type": "code",
   "execution_count": 9,
   "metadata": {},
   "outputs": [
    {
     "name": "stdout",
     "output_type": "stream",
     "text": [
      "Enter a number: 2\n",
      "Even Number\n"
     ]
    }
   ],
   "source": [
    "num= int(input('Enter a number: '))\n",
    "if num %2 == 0:\n",
    "    print('Even Number')\n",
    "else:\n",
    "    print('Odd number')"
   ]
  },
  {
   "cell_type": "code",
   "execution_count": 11,
   "metadata": {},
   "outputs": [
    {
     "name": "stdout",
     "output_type": "stream",
     "text": [
      "Enter a letter: A\n",
      "Letter A is vowel\n"
     ]
    }
   ],
   "source": [
    "vowel= input('Enter a letter: ')\n",
    "if vowel.lower() == 'a' or vowel.lower() == 'e' or vowel.lower() == 'i' or vowel.lower() == 'o' or vowel.lower() == 'u':\n",
    "    print('Letter',vowel, 'is vowel')\n",
    "else:\n",
    "    print('Letter is',vowel, 'not vowel')"
   ]
  },
  {
   "cell_type": "code",
   "execution_count": 12,
   "metadata": {},
   "outputs": [
    {
     "name": "stdout",
     "output_type": "stream",
     "text": [
      "Enter a base of the cirul: 5\n",
      "Enter a height of the circul: 6\n"
     ]
    }
   ],
   "source": [
    "base= float(input('Enter a base of the cirul: '))\n",
    "height= float(input('Enter a height of the circul: '))\n",
    "area = (1/2)*base**height"
   ]
  },
  {
   "cell_type": "code",
   "execution_count": 2,
   "metadata": {},
   "outputs": [
    {
     "name": "stdout",
     "output_type": "stream",
     "text": [
      "55\n"
     ]
    }
   ],
   "source": [
    "total=0 \n",
    "i=1\n",
    "while i<= 10:\n",
    "    total+=i\n",
    "    i+=1\n",
    "\n",
    "    print(total)"
   ]
  },
  {
   "cell_type": "code",
   "execution_count": 3,
   "metadata": {},
   "outputs": [
    {
     "name": "stdout",
     "output_type": "stream",
     "text": [
      "Enter a natural number: 45\n",
      "1035\n"
     ]
    }
   ],
   "source": [
    "n = int(input('Enter a natural number: '))\n",
    "total=0 \n",
    "i=1\n",
    "while i<= n:\n",
    "    total+=i\n",
    "    i+=1\n",
    "print(total)"
   ]
  },
  {
   "cell_type": "code",
   "execution_count": 12,
   "metadata": {},
   "outputs": [
    {
     "name": "stdout",
     "output_type": "stream",
     "text": [
      "Enter a natural number: 1111\n",
      "3\n"
     ]
    }
   ],
   "source": []
  },
  {
   "cell_type": "code",
   "execution_count": 2,
   "metadata": {},
   "outputs": [
    {
     "name": "stdout",
     "output_type": "stream",
     "text": [
      "Enter a number: 1234\n",
      "10\n"
     ]
    }
   ],
   "source": [
    "number= input('Enter a number: ')\n",
    "total = 0\n",
    "i = 0\n",
    "while i< len(number):\n",
    "    total+= int(number[i])\n",
    "    i += 1\n",
    "print(total)"
   ]
  },
  {
   "cell_type": "code",
   "execution_count": 13,
   "metadata": {},
   "outputs": [
    {
     "name": "stdout",
     "output_type": "stream",
     "text": [
      "Enter a name: neeraj kumar\n",
      "n :1\n",
      "e :2\n",
      "r :2\n",
      "a :2\n",
      "j :1\n",
      "  :1\n",
      "k :1\n",
      "u :1\n",
      "m :1\n",
      "0\n"
     ]
    }
   ],
   "source": [
    "name= input('Enter a name: ')\n",
    "temp_var= ''\n",
    "i = 0\n",
    "while i < len(name):\n",
    "    if name[i] not in temp_var:\n",
    "        temp_var += name[i]\n",
    "        print(f\"{name[i]} :{name.count(name[i])}\")\n",
    "\n",
    "    i += 1\n",
    "print(total)"
   ]
  },
  {
   "cell_type": "code",
   "execution_count": 16,
   "metadata": {},
   "outputs": [
    {
     "name": "stdout",
     "output_type": "stream",
     "text": [
      "Enter a name: Neeraj kumar\n",
      "N: 1\n",
      "e: 2\n",
      "r: 2\n",
      "a: 2\n",
      "j: 1\n",
      " : 1\n",
      "k: 1\n",
      "u: 1\n",
      "m: 1\n"
     ]
    }
   ],
   "source": [
    "name1 = input('Enter a name: ')\n",
    "temp_var= ''\n",
    "i = 0\n",
    "while i< len(name):\n",
    "    if name1[i] not in temp_var:\n",
    "        temp_var += name1[i]\n",
    "        print(f\"{name1[i]}: {name1.count(name1[i])}\")\n",
    "    i += 1\n"
   ]
  },
  {
   "cell_type": "code",
   "execution_count": 4,
   "metadata": {},
   "outputs": [
    {
     "name": "stdout",
     "output_type": "stream",
     "text": [
      "please enter a number: 8\n",
      "please enter a number: 9\n",
      "17\n"
     ]
    }
   ],
   "source": [
    "\n",
    "def number(x,y):\n",
    "    x = int(input('please enter a number: '))\n",
    "    y = int(input('please enter a number: '))\n",
    "    z= x + y\n",
    "    print(z)\n",
    "    \n",
    "number(x,y)"
   ]
  },
  {
   "cell_type": "code",
   "execution_count": 6,
   "metadata": {},
   "outputs": [
    {
     "name": "stdout",
     "output_type": "stream",
     "text": [
      "please enter a number: 9\n",
      "please enter a number: 9\n",
      "18\n"
     ]
    }
   ],
   "source": [
    "number(x,y)"
   ]
  },
  {
   "cell_type": "code",
   "execution_count": 6,
   "metadata": {},
   "outputs": [],
   "source": [
    "def marksheet(x):\n",
    "    total_marks= 1100\n",
    "    x = int(input('Enter total marks: '))\n",
    "    \n",
    "    z= x *100/total_marks\n",
    "    name = input('Enter a name: ')\n",
    "    fname = input('Enter father name: ')\n",
    "   \n",
    "    if z >= 90:\n",
    "        print('A1')\n",
    "    elif z <= 90:\n",
    "        print('A+')\n",
    "    elif z <= 80:\n",
    "        print('A')\n",
    "    else:\n",
    "        print('Fail')\n"
   ]
  },
  {
   "cell_type": "code",
   "execution_count": 8,
   "metadata": {},
   "outputs": [
    {
     "ename": "NameError",
     "evalue": "name 'x' is not defined",
     "output_type": "error",
     "traceback": [
      "\u001b[1;31m---------------------------------------------------------------------------\u001b[0m",
      "\u001b[1;31mNameError\u001b[0m                                 Traceback (most recent call last)",
      "\u001b[1;32m<ipython-input-8-b3b6957d854f>\u001b[0m in \u001b[0;36m<module>\u001b[1;34m\u001b[0m\n\u001b[1;32m----> 1\u001b[1;33m \u001b[0mmarksheet\u001b[0m\u001b[1;33m(\u001b[0m\u001b[0mx\u001b[0m\u001b[1;33m)\u001b[0m\u001b[1;33m\u001b[0m\u001b[1;33m\u001b[0m\u001b[0m\n\u001b[0m",
      "\u001b[1;31mNameError\u001b[0m: name 'x' is not defined"
     ]
    }
   ],
   "source": [
    "marksheet(x)"
   ]
  },
  {
   "cell_type": "code",
   "execution_count": null,
   "metadata": {},
   "outputs": [],
   "source": []
  },
  {
   "cell_type": "code",
   "execution_count": null,
   "metadata": {},
   "outputs": [],
   "source": []
  }
 ],
 "metadata": {
  "kernelspec": {
   "display_name": "Python 3",
   "language": "python",
   "name": "python3"
  },
  "language_info": {
   "codemirror_mode": {
    "name": "ipython",
    "version": 3
   },
   "file_extension": ".py",
   "mimetype": "text/x-python",
   "name": "python",
   "nbconvert_exporter": "python",
   "pygments_lexer": "ipython3",
   "version": "3.7.3"
  }
 },
 "nbformat": 4,
 "nbformat_minor": 2
}
